{
 "cells": [
  {
   "cell_type": "code",
   "execution_count": 4,
   "metadata": {},
   "outputs": [],
   "source": [
    "from moviepy.editor import VideoFileClip, AudioFileClip, TextClip, CompositeVideoClip, concatenate\n",
    "from moviepy.video.fx import resize\n",
    "from moviepy.video.tools.subtitles import SubtitlesClip\n",
    "import scipy.io.wavfile as wav\n",
    "import numpy as np\n",
    "import re\n"
   ]
  },
  {
   "cell_type": "code",
   "execution_count": 23,
   "metadata": {},
   "outputs": [],
   "source": [
    "def cropVideo(originalPath, newPath):\n",
    "    orignal = VideoFileClip(originalPath)\n",
    "    new_width = int(orignal.size[1] * (9/16)) \n",
    "    x_offset = (orignal.size[0] - new_width) / 2\n",
    "    cropped_clip = orignal.crop(x_offset, 0, x_offset + new_width, orignal.size[1])\n",
    "    cropped_clip = cropped_clip.subclip(0, 240)\n",
    "    cropped_clip.write_videofile(newPath, fps=30, codec='libx264')\n",
    "    cropped_clip.close()\n",
    "\n",
    "def makeVideo(gameplayVidPath, audioFilePath, finalVidPath):\n",
    "    TTS = AudioFileClip(audioFilePath)\n",
    "    gameplayVid = VideoFileClip(gameplayVidPath)\n",
    "    gameplayVid = gameplayVid.subclip(0,TTS.duration)\n",
    "    generator = lambda txt: TextClip(txt, font='Arial-Bold', color = 'white', method='caption',fontsize=32, stroke_color='black', stroke_width=1)\n",
    "    subtitles = SubtitlesClip(\"./text/subs.srt\", generator)\n",
    "    subtitles = subtitles.set_position((\"center\",\"center\")).set_duration(TTS.duration)\n",
    "    final = CompositeVideoClip([gameplayVid, subtitles])\n",
    "    final.audio = TTS\n",
    "    final.write_videofile(finalVidPath, fps=30)\n",
    "\n",
    "def getTextArray(textFile):\n",
    "    f = open(textFile, \"r\")\n",
    "    text = f.read()\n",
    "    f.close()\n",
    "    sentence_pattern = r'[.,!?()]\\s*'\n",
    "    sentences = re.split(sentence_pattern, text)\n",
    "    return sentences[0:len(sentences)-1]\n",
    "\n",
    "def generateTiming(audioFile, min_silence_duration):\n",
    "    audio = AudioFileClip(audioFile)\n",
    "    audio.write_audiofile('audio/TTS.wav') # Converts mp3 into wav file\n",
    "    audio.close()\n",
    "    sample_rate, audio_data = wav.read('audio/TTS.wav')\n",
    "\n",
    "    threshold = 600  # Adjust this value based on your audio data\n",
    "\n",
    "    silence_timing = []\n",
    "    is_silence = True\n",
    "    silence_start_time = 0\n",
    "\n",
    "    for i, amplitude in enumerate(audio_data):\n",
    "        if abs(amplitude[0]) > threshold:\n",
    "            if not is_silence:\n",
    "                is_silence = True\n",
    "                silence_duration = (i / sample_rate) - silence_start_time\n",
    "                if silence_duration >= min_silence_duration:\n",
    "                    silence_timing.append((silence_start_time, i / sample_rate))\n",
    "        else:\n",
    "            if is_silence:\n",
    "                silence_start_time = i / sample_rate\n",
    "                is_silence = False\n",
    "\n",
    "    # # Check if the audio ends with silence longer than min_silence_duration\n",
    "    if is_silence:\n",
    "        silence_duration = (len(audio_data) / sample_rate) - silence_start_time\n",
    "        if silence_duration >= min_silence_duration:\n",
    "            silence_timing.append((silence_start_time, len(audio_data) / sample_rate))\n",
    "\n",
    "    sound_segments = []\n",
    "    for i in range(len(silence_timing) - 1): # Genereates segments of sound from silence\n",
    "        silence_end_time = silence_timing[i][1]\n",
    "        next_silence_start_time = silence_timing[i + 1][0]\n",
    "        sound_segments.append((silence_end_time, next_silence_start_time))\n",
    "    sound_segments.append((silence_timing[len(silence_timing)-1][1], len(audio_data) / sample_rate)) # Add the last segment\n",
    "    return sound_segments\n",
    "\n",
    "def generateSubtitles(sentences, timing):\n",
    "    f = open(\"text/subs.srt\", \"w\")\n",
    "    for i in range(0,len(timing)):\n",
    "        f.write(str(i+1) + '\\n')\n",
    "        f.write(f'{convertToTime(timing[i][0])} --> {convertToTime(timing[i][1])} \\n')\n",
    "        f.write(sentences[i]+ '\\n' + '\\n')\n",
    "    f.close()\n",
    "\n",
    "def convertToTime(seconds: float): #Conversion from seconds to 00:00:00,000 for SRT file\n",
    "    millisecond = seconds % 1 * 1000\n",
    "    seconds = seconds % (24 * 3600)\n",
    "    hour = seconds // 3600\n",
    "    seconds %= 3600\n",
    "    minutes = seconds // 60\n",
    "    seconds %= 60\n",
    "    return f'{\"%02d\" %hour}:{\"%02d\" %minutes}:{\"%02d\" %seconds},{\"%03d\" %millisecond}'\n"
   ]
  },
  {
   "cell_type": "code",
   "execution_count": 6,
   "metadata": {},
   "outputs": [
    {
     "name": "stdout",
     "output_type": "stream",
     "text": [
      "Moviepy - Building video videos/minecraftCropped.mp4.\n",
      "MoviePy - Writing audio in minecraftCroppedTEMP_MPY_wvf_snd.mp3\n"
     ]
    },
    {
     "name": "stderr",
     "output_type": "stream",
     "text": [
      "                                                                      \r"
     ]
    },
    {
     "name": "stdout",
     "output_type": "stream",
     "text": [
      "MoviePy - Done.\n",
      "Moviepy - Writing video videos/minecraftCropped.mp4\n",
      "\n"
     ]
    },
    {
     "name": "stderr",
     "output_type": "stream",
     "text": [
      "                                                                 \r"
     ]
    },
    {
     "name": "stdout",
     "output_type": "stream",
     "text": [
      "Moviepy - Done !\n",
      "Moviepy - video ready videos/minecraftCropped.mp4\n"
     ]
    }
   ],
   "source": [
    "cropVideo('videos/minecraft2.mp4', 'videos/minecraftCropped.mp4')"
   ]
  },
  {
   "cell_type": "code",
   "execution_count": 24,
   "metadata": {},
   "outputs": [
    {
     "name": "stdout",
     "output_type": "stream",
     "text": [
      "MoviePy - Writing audio in audio/TTS.wav\n"
     ]
    },
    {
     "name": "stderr",
     "output_type": "stream",
     "text": [
      "chunk:   0%|          | 0/997 [00:00<?, ?it/s, now=None]"
     ]
    },
    {
     "name": "stderr",
     "output_type": "stream",
     "text": [
      "                                                                    "
     ]
    },
    {
     "name": "stdout",
     "output_type": "stream",
     "text": [
      "MoviePy - Done.\n"
     ]
    },
    {
     "name": "stderr",
     "output_type": "stream",
     "text": [
      "\r"
     ]
    },
    {
     "name": "stdout",
     "output_type": "stream",
     "text": [
      "Moviepy - Building video finalVid/what-is-insurance.mp4.\n",
      "MoviePy - Writing audio in what-is-insuranceTEMP_MPY_wvf_snd.mp3\n"
     ]
    },
    {
     "name": "stderr",
     "output_type": "stream",
     "text": [
      "                                                                    \r"
     ]
    },
    {
     "name": "stdout",
     "output_type": "stream",
     "text": [
      "MoviePy - Done.\n",
      "Moviepy - Writing video finalVid/what-is-insurance.mp4\n",
      "\n"
     ]
    },
    {
     "name": "stderr",
     "output_type": "stream",
     "text": [
      "                                                                 \r"
     ]
    },
    {
     "name": "stdout",
     "output_type": "stream",
     "text": [
      "Moviepy - Done !\n",
      "Moviepy - video ready finalVid/what-is-insurance.mp4\n"
     ]
    }
   ],
   "source": [
    "textArray = getTextArray('text/what-is-insurance.txt')\n",
    "timing = generateTiming('audio/what-is-insurance.mp3' ,0.18)\n",
    "generateSubtitles(textArray, timing)\n",
    "makeVideo('videos/minecraftCropped.mp4', 'audio/TTS.wav', 'finalVid/what-is-insurance.mp4')"
   ]
  }
 ],
 "metadata": {
  "kernelspec": {
   "display_name": ".venv",
   "language": "python",
   "name": "python3"
  },
  "language_info": {
   "codemirror_mode": {
    "name": "ipython",
    "version": 3
   },
   "file_extension": ".py",
   "mimetype": "text/x-python",
   "name": "python",
   "nbconvert_exporter": "python",
   "pygments_lexer": "ipython3",
   "version": "3.10.12"
  },
  "orig_nbformat": 4
 },
 "nbformat": 4,
 "nbformat_minor": 2
}
